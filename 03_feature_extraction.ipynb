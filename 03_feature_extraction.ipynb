{
 "cells": [
  {
   "cell_type": "markdown",
   "id": "db7bd21e",
   "metadata": {},
   "source": [
    "## <CENTER><U> 1. IMPORTING BASIC NECESSARY PACKAGES</U></CENTER>"
   ]
  },
  {
   "cell_type": "code",
   "execution_count": null,
   "id": "2e1ed31d",
   "metadata": {},
   "outputs": [],
   "source": [
    "import pandas as pd\n",
    "import numpy as np"
   ]
  },
  {
   "cell_type": "markdown",
   "id": "628e503b",
   "metadata": {},
   "source": [
    "## <CENTER><U> 2. READING INPUT DATA </CENTER></U>"
   ]
  },
  {
   "cell_type": "code",
   "execution_count": null,
   "id": "502df6e9",
   "metadata": {},
   "outputs": [],
   "source": [
    "pd.set_option('display.max_columns', None)\n",
    "pd.set_option('display.max_rows', None)\n",
    "\n",
    "data = pd.read_csv(\"Data processing/feature_caclculated.csv\")"
   ]
  },
  {
   "cell_type": "code",
   "execution_count": null,
   "id": "ee77b0d6",
   "metadata": {},
   "outputs": [],
   "source": [
    "data.columns"
   ]
  },
  {
   "cell_type": "code",
   "execution_count": null,
   "id": "bc969ff3",
   "metadata": {},
   "outputs": [],
   "source": [
    "data.dtypes"
   ]
  },
  {
   "cell_type": "code",
   "execution_count": null,
   "id": "62d59795",
   "metadata": {},
   "outputs": [],
   "source": [
    "display(data.head(8))"
   ]
  },
  {
   "cell_type": "markdown",
   "id": "fa35d94a",
   "metadata": {},
   "source": [
    "## <CENTER><U>3. FEATURE EXTRACTION "
   ]
  },
  {
   "cell_type": "code",
   "execution_count": null,
   "id": "d0a9717d",
   "metadata": {},
   "outputs": [],
   "source": [
    "\n",
    "data_feature = pd.DataFrame(columns=['Travel Count', 'Transportation Mode', 'Max Speed(m/s)', '95% Speed(m/s)',\n",
    "                                     '75% Speed(m/s)', 'Mean Speed(m/s)', 'Speed Std', 'Max Acceleration(m/s^2)',\n",
    "                                     '95% Acceleration(m/s^2)', '75% Acceleration(m/s^2)',\n",
    "                                     'Mean Acceleration(m/s^2)', 'Acceleration Std', 'Non 0 Mean Speed(m/s)',\n",
    "                                     'Non 0 Mean Acceleration(m/s^2)', 'Total Time(s)', 'Total Distance(m)'])"
   ]
  },
  {
   "cell_type": "markdown",
   "id": "a4d21f30",
   "metadata": {},
   "source": [
    "### Fetaure extraction criterias for speed"
   ]
  },
  {
   "cell_type": "code",
   "execution_count": null,
   "id": "19c5ac4f",
   "metadata": {},
   "outputs": [],
   "source": [
    "count_speed = []\n",
    "\n",
    "for i in range(len(data)):\n",
    "    if data['Transportation Mode'][i] == 'train' or data['Transportation Mode'][i] == 'subway':\n",
    "        if data['Speed(m/s)'][i] != 'N.A':\n",
    "            if float(data['Speed(m/s)'][i]) > 100:\n",
    "                count_speed.append(i)\n",
    "    if data['Transportation Mode'][i] == 'taxi' or data['Transportation Mode'][i] == 'bus' \\\n",
    "            or data['Transportation Mode'][i] == 'car':\n",
    "        if data['Speed(m/s)'][i] != 'N.A':\n",
    "            if float(data['Speed(m/s)'][i]) > 45:\n",
    "                count_speed.append(i)\n",
    "    if data['Transportation Mode'][i] == 'walk':\n",
    "        if data['Speed(m/s)'][i] != 'N.A':\n",
    "            if float(data['Speed(m/s)'][i]) > 5:\n",
    "                count_speed.append(i)\n",
    "    if data['Transportation Mode'][i] == 'bike':\n",
    "        if data['Speed(m/s)'][i] != 'N.A':\n",
    "            if float(data['Speed(m/s)'][i]) > 10:\n",
    "                count_speed.append(i)\n",
    "\n",
    "data = data.drop(count_speed).reset_index(drop=True)"
   ]
  },
  {
   "cell_type": "markdown",
   "id": "7ba80b3a",
   "metadata": {},
   "source": [
    "### Fetaure extraction criterias for acceleration"
   ]
  },
  {
   "cell_type": "code",
   "execution_count": null,
   "id": "e2b37762",
   "metadata": {},
   "outputs": [],
   "source": [
    "count_speed_a = []\n",
    "\n",
    "for i in range(len(data)):\n",
    "    if data['Transportation Mode'][i] == 'train' or data['Transportation Mode'][i] == 'subway':\n",
    "        if data['Acceleration(m/s^2)'][i] != 'N.A':\n",
    "            if float(data['Acceleration(m/s^2)'][i]) > 8:\n",
    "                count_speed_a.append(i)\n",
    "    if data['Transportation Mode'][i] == 'taxi' or data['Transportation Mode'][i] == 'bus' \\\n",
    "            or data['Transportation Mode'][i] == 'car':\n",
    "        if data['Acceleration(m/s^2)'][i] != 'N.A':\n",
    "            if float(data['Acceleration(m/s^2)'][i]) > 12:\n",
    "                count_speed_a.append(i)\n",
    "    if data['Transportation Mode'][i] == 'walk':\n",
    "        if data['Acceleration(m/s^2)'][i] != 'N.A':\n",
    "            if float(data['Acceleration(m/s^2)'][i]) > 3:\n",
    "                count_speed_a.append(i)\n",
    "    if data['Transportation Mode'][i] == 'bike':\n",
    "        if data['Acceleration(m/s^2)'][i] != 'N.A':\n",
    "            if float(data['Acceleration(m/s^2)'][i]) > 5:\n",
    "                count_speed_a.append(i)\n",
    "\n",
    "data = data.drop(count_speed_a).reset_index(drop=True)"
   ]
  },
  {
   "cell_type": "code",
   "execution_count": null,
   "id": "bc169112",
   "metadata": {},
   "outputs": [],
   "source": [
    "count = 1\n",
    "count_list = []\n",
    "location = []\n",
    "\n",
    "for i in range(len(data)-1):\n",
    "    if data['Travel Count'][i] == data['Travel Count'][i+1]:\n",
    "        count = count + 1\n",
    "    else:\n",
    "        count_list.append(count)\n",
    "        count = 1\n",
    "count_list.append(count)\n",
    "\n",
    "for i in range(len(count_list)):\n",
    "    if count_list[i] < 4:\n",
    "        location.append(i+1)\n",
    "\n",
    "data = data[-data['Travel Count'].isin(location)]\n",
    "data = data.reset_index(drop=True)"
   ]
  },
  {
   "cell_type": "code",
   "execution_count": null,
   "id": "60042f55",
   "metadata": {},
   "outputs": [],
   "source": [
    "speed = []\n",
    "acceleration = []\n",
    "travel_count_feature = []\n",
    "mode_feature = []\n",
    "speed_max_feature = []\n",
    "speed_95_feature = []\n",
    "speed_75_feature = []\n",
    "speed_mean_feature = []\n",
    "speed_std_feature = []\n",
    "acceleration_max_feature = []\n",
    "acceleration_95_feature = []\n",
    "acceleration_75_feature = []\n",
    "acceleration_mean_feature = []\n",
    "acceleration_std_feature = []\n",
    "\n",
    "total_time_feature = []\n",
    "total_distance_feature = []\n",
    "\n",
    "non_0_speed = []\n",
    "non_0_speed_acceleration = []\n",
    "non_0_speed_mean_feature = []\n",
    "non_0_speed_acceleration_mean_feature = []\n",
    "\n",
    "for i in range(len(data)):\n",
    "    if i != len(data)-1:\n",
    "        if data['Travel Count'][i] == data['Travel Count'][i+1]:\n",
    "            if float(data['Speed(m/s)'][i]) != 0:\n",
    "                non_0_speed.append(float(data['Speed(m/s)'][i]))\n",
    "                non_0_speed_acceleration.append(data['Acceleration(m/s^2)'][i])\n",
    "            speed.append(float(data['Speed(m/s)'][i]))\n",
    "            acceleration.append(data['Acceleration(m/s^2)'][i])\n",
    "        else:\n",
    "            if 'N.A' in acceleration:\n",
    "                acceleration.remove('N.A')\n",
    "            acceleration = list(map(float, acceleration))\n",
    "            acceleration = list(map(abs, acceleration))\n",
    "            speed_np = np.array(speed)\n",
    "            acceleration_np = np.array(acceleration)\n",
    "            travel_count_feature.append(data['Travel Count'][i])\n",
    "            mode_feature.append(data['Transportation Mode'][i])\n",
    "\n",
    "            speed_max_feature.append(max(speed))\n",
    "            speed_95_feature.append(round(np.percentile(speed_np, 95), 2))\n",
    "            speed_75_feature.append(round(np.percentile(speed_np, 75), 2))\n",
    "            speed_mean_feature.append(round(float(np.mean(speed_np)), 2))\n",
    "            speed_std_feature.append(round(float(np.std(speed_np)), 2))\n",
    "\n",
    "            acceleration_max_feature.append(max(acceleration))\n",
    "            acceleration_95_feature.append(round(np.percentile(acceleration_np, 95), 2))\n",
    "            acceleration_75_feature.append(round(np.percentile(acceleration_np, 75), 2))\n",
    "            acceleration_mean_feature.append(round(float(np.mean(acceleration_np)), 2))\n",
    "            acceleration_std_feature.append(round(float(np.std(acceleration_np)), 2))\n",
    "\n",
    "            total_time_feature.append(float(data['Total Time(s)'][i]))\n",
    "            total_distance_feature.append(round(float(data['Total Distance(m)'][i]), 2))\n",
    "\n",
    "            speed = []\n",
    "            acceleration = []\n",
    "            if 'N.A' in non_0_speed_acceleration:\n",
    "                non_0_speed_acceleration.remove('N.A')\n",
    "            non_0_speed_acceleration = list(map(float, non_0_speed_acceleration))\n",
    "            non_0_speed_acceleration = list(map(abs, non_0_speed_acceleration))\n",
    "            non_0_speed_np = np.array(non_0_speed)\n",
    "            non_0_acceleration_np = np.array(non_0_speed_acceleration)\n",
    "            non_0_speed_mean_feature.append(round(float(np.mean(non_0_speed_np)), 2))\n",
    "            non_0_speed_acceleration_mean_feature.append(round(float(np.mean(non_0_acceleration_np)), 2))\n",
    "\n",
    "            non_0_speed = []\n",
    "            non_0_speed_acceleration = []\n",
    "\n",
    "    else:\n",
    "        if 'N.A' in acceleration:\n",
    "            acceleration.remove('N.A')\n",
    "        acceleration = list(map(float, acceleration))\n",
    "        acceleration = list(map(abs, acceleration))\n",
    "        speed_np = np.array(speed)\n",
    "        acceleration_np = np.array(acceleration)\n",
    "        travel_count_feature.append(data['Travel Count'][i])\n",
    "        mode_feature.append(data['Transportation Mode'][i])\n",
    "\n",
    "        speed_max_feature.append(max(speed))\n",
    "        speed_95_feature.append(round(np.percentile(speed_np, 95), 2))\n",
    "        speed_75_feature.append(round(np.percentile(speed_np, 75), 2))\n",
    "        speed_mean_feature.append(round(float(np.mean(speed_np)), 2))\n",
    "        speed_std_feature.append(round(float(np.std(speed_np)), 2))\n",
    "\n",
    "        acceleration_max_feature.append(max(acceleration))\n",
    "        acceleration_95_feature.append(round(np.percentile(acceleration_np, 95), 2))\n",
    "        acceleration_75_feature.append(round(np.percentile(acceleration_np, 75), 2))\n",
    "        acceleration_mean_feature.append(round(float(np.mean(acceleration_np)), 2))\n",
    "        acceleration_std_feature.append(round(float(np.std(acceleration_np)), 2))\n",
    "\n",
    "        total_time_feature.append(float(data['Total Time(s)'][i]))\n",
    "        total_distance_feature.append(round(float(data['Total Distance(m)'][i]), 2))\n",
    "\n",
    "        if 'N.A' in non_0_speed_acceleration:\n",
    "            non_0_speed_acceleration.remove('N.A')\n",
    "        non_0_speed_acceleration = list(map(float, non_0_speed_acceleration))\n",
    "        non_0_speed_acceleration = list(map(abs, non_0_speed_acceleration))\n",
    "        non_0_speed_np = np.array(non_0_speed)\n",
    "        non_0_acceleration_np = np.array(non_0_speed_acceleration)\n",
    "        non_0_speed_mean_feature.append(round(float(np.mean(non_0_speed_np)), 2))\n",
    "        non_0_speed_acceleration_mean_feature.append(round(float(np.mean(non_0_acceleration_np)), 2))"
   ]
  },
  {
   "cell_type": "code",
   "execution_count": null,
   "id": "c49b197f",
   "metadata": {},
   "outputs": [],
   "source": [
    "data_feature['Travel Count'] = travel_count_feature\n",
    "data_feature['Transportation Mode'] = mode_feature\n",
    "data_feature['Max Speed(m/s)'] = speed_max_feature\n",
    "data_feature['95% Speed(m/s)'] = speed_95_feature\n",
    "data_feature['75% Speed(m/s)'] = speed_75_feature\n",
    "data_feature['Mean Speed(m/s)'] = speed_mean_feature\n",
    "data_feature['Speed Std'] = speed_std_feature\n",
    "data_feature['Max Acceleration(m/s^2)'] = acceleration_max_feature\n",
    "data_feature['95% Acceleration(m/s^2)'] = acceleration_95_feature\n",
    "data_feature['75% Acceleration(m/s^2)'] = acceleration_75_feature\n",
    "data_feature['Mean Acceleration(m/s^2)'] = acceleration_mean_feature\n",
    "data_feature['Acceleration Std'] = acceleration_std_feature\n",
    "data_feature['Non 0 Mean Speed(m/s)'] = non_0_speed_mean_feature\n",
    "data_feature['Non 0 Mean Acceleration(m/s^2)'] = non_0_speed_acceleration_mean_feature\n",
    "data_feature['Total Time(s)'] = total_time_feature\n",
    "data_feature['Total Distance(m)'] = total_distance_feature"
   ]
  },
  {
   "cell_type": "code",
   "execution_count": null,
   "id": "47d7b6a7",
   "metadata": {},
   "outputs": [],
   "source": [
    "data_feature.to_excel(\"Data processing/feature_extracted.xlsx\", index=0)"
   ]
  }
 ],
 "metadata": {
  "kernelspec": {
   "display_name": "Python 3 (ipykernel)",
   "language": "python",
   "name": "python3"
  },
  "language_info": {
   "codemirror_mode": {
    "name": "ipython",
    "version": 3
   },
   "file_extension": ".py",
   "mimetype": "text/x-python",
   "name": "python",
   "nbconvert_exporter": "python",
   "pygments_lexer": "ipython3",
   "version": "3.9.7"
  }
 },
 "nbformat": 4,
 "nbformat_minor": 5
}
