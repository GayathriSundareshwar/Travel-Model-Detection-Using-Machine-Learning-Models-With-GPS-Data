{
 "cells": [
  {
   "cell_type": "markdown",
   "id": "0b09656d",
   "metadata": {},
   "source": [
    "## <CENTER><U> 1. IMPORTING BASIC NECESSARY PACKAGES</U></CENTER>"
   ]
  },
  {
   "cell_type": "code",
   "execution_count": 1,
   "id": "8f4eb6f9",
   "metadata": {},
   "outputs": [],
   "source": [
    "import pandas as pd\n",
    "import numpy as np\n",
    "from sklearn.svm import SVC\n",
    "from sklearn.model_selection import train_test_split, StratifiedKFold, learning_curve\n",
    "from sklearn.metrics import precision_score\n",
    "from sklearn.preprocessing import StandardScaler\n",
    "from matplotlib import pyplot as plt"
   ]
  },
  {
   "cell_type": "markdown",
   "id": "2de002bb",
   "metadata": {},
   "source": [
    "## <CENTER><U> 2. READING INPUT DATA </CENTER></U>"
   ]
  },
  {
   "cell_type": "code",
   "execution_count": 2,
   "id": "dd19b6f5",
   "metadata": {},
   "outputs": [],
   "source": [
    "data = pd.read_excel(\"Data processing/feature_extracted.xlsx\")\n",
    "features = ['Max Speed(m/s)', 'Non 0 Mean Speed(m/s)', 'Speed Std', 'Max Acceleration(m/s^2)',\n",
    "            'Acceleration Std', 'Non 0 Mean Acceleration(m/s^2)']"
   ]
  },
  {
   "cell_type": "markdown",
   "id": "4bfdb0ff",
   "metadata": {},
   "source": [
    "## <CENTER><U> 3. MODELING </CENTER></U>"
   ]
  },
  {
   "cell_type": "markdown",
   "id": "8e057ba3",
   "metadata": {},
   "source": [
    "## <b>Train, test split"
   ]
  },
  {
   "cell_type": "code",
   "execution_count": 3,
   "id": "03187cbd",
   "metadata": {},
   "outputs": [],
   "source": [
    "X = data[features]\n",
    "y = data['Transportation Mode']\n",
    "X_train, X_test, y_train, y_test = train_test_split(X, y, test_size=0.3, stratify=y, random_state=233)"
   ]
  },
  {
   "cell_type": "code",
   "execution_count": 4,
   "id": "56ac27eb",
   "metadata": {},
   "outputs": [],
   "source": [
    "scaler = StandardScaler()\n",
    "X_train = scaler.fit_transform(X_train)\n",
    "X_test = scaler.transform(X_test)"
   ]
  },
  {
   "cell_type": "markdown",
   "id": "d56167de",
   "metadata": {},
   "source": [
    "## <b>K-fold validation"
   ]
  },
  {
   "cell_type": "code",
   "execution_count": 5,
   "id": "8616545d",
   "metadata": {},
   "outputs": [],
   "source": [
    "n_folds = 5\n",
    "skf = StratifiedKFold(n_splits=n_folds, shuffle=True, random_state=233)"
   ]
  },
  {
   "cell_type": "markdown",
   "id": "82aea5ec",
   "metadata": {},
   "source": [
    "## <b>Model learning curve"
   ]
  },
  {
   "cell_type": "code",
   "execution_count": 6,
   "id": "f0e6f980",
   "metadata": {},
   "outputs": [],
   "source": [
    "def plot_learning_curve(estimator, title, X, y, ylim=(0.5, 1.01), cv=skf, train_sizes=np.linspace(.1, 1.0, 5)):\n",
    "    train_sizes, train_scores, test_scores = learning_curve(\n",
    "        estimator, X, y, cv=cv, train_sizes=train_sizes, scoring='f1_weighted')\n",
    "    plt.figure()\n",
    "    plt.title(title)\n",
    "    if ylim is not None:\n",
    "        plt.ylim(*ylim)\n",
    "    plt.xlabel(\"Training examples\")\n",
    "    plt.ylabel(\"Score\")\n",
    "    train_sizes, train_scores, test_scores = learning_curve(\n",
    "        estimator, X, y, cv=cv, train_sizes=train_sizes, scoring='f1_weighted')\n",
    "    train_scores_mean = np.mean(train_scores, axis=1)\n",
    "    train_scores_std = np.std(train_scores, axis=1)\n",
    "    test_scores_mean = np.mean(test_scores, axis=1)\n",
    "    test_scores_std = np.std(test_scores, axis=1)\n",
    "    print(\"SVM Macro weighted F1-score: %.2f%%\" % (train_scores_mean[-1] * 100.0))\n",
    "    print(\"SVM Macro weighted F1-score: %.2f%%\" % (test_scores_mean[-1] * 100.0))\n",
    "    plt.grid()\n",
    "\n",
    "    plt.fill_between(train_sizes, train_scores_mean - train_scores_std,\n",
    "                     train_scores_mean + train_scores_std, alpha=0.1,\n",
    "                     color=\"r\")\n",
    "    plt.fill_between(train_sizes, test_scores_mean - test_scores_std,\n",
    "                     test_scores_mean + test_scores_std, alpha=0.1, color=\"g\")\n",
    "    plt.plot(train_sizes, train_scores_mean, 'o-', color=\"r\",\n",
    "             label=\"Training score\")\n",
    "    plt.plot(train_sizes, test_scores_mean, 'o-', color=\"g\",\n",
    "             label=\"Cross-validation score\")\n",
    "\n",
    "    plt.legend(loc=\"best\")\n",
    "    return plt"
   ]
  },
  {
   "cell_type": "code",
   "execution_count": 7,
   "id": "13b4fa75",
   "metadata": {},
   "outputs": [
    {
     "name": "stderr",
     "output_type": "stream",
     "text": [
      "C:\\Users\\gayus\\anaconda3\\lib\\site-packages\\sklearn\\model_selection\\_split.py:666: UserWarning: The least populated class in y has only 1 members, which is less than n_splits=5.\n",
      "  warnings.warn((\"The least populated class in y has only %d\"\n",
      "C:\\Users\\gayus\\anaconda3\\lib\\site-packages\\sklearn\\model_selection\\_split.py:666: UserWarning: The least populated class in y has only 1 members, which is less than n_splits=5.\n",
      "  warnings.warn((\"The least populated class in y has only %d\"\n"
     ]
    },
    {
     "name": "stdout",
     "output_type": "stream",
     "text": [
      "SVM Macro weighted F1-score: 78.46%\n",
      "SVM Macro weighted F1-score: 73.81%\n"
     ]
    },
    {
     "data": {
      "image/png": "[encoded data removed]",
      "text/plain": [
       "<Figure size 432x288 with 1 Axes>"
      ]
     },
     "metadata": {
      "needs_background": "light"
     },
     "output_type": "display_data"
    },
    {
     "name": "stdout",
     "output_type": "stream",
     "text": [
      "SVM Macro weighted F1-score: 81.56%\n"
     ]
    }
   ],
   "source": [
    "clf = SVC(kernel='rbf', gamma=0.5, C=10, class_weight='balanced', random_state=233)\n",
    "plot_learning_curve(clf, u\"SVM learning curve\", X_train, y_train)\n",
    "plt.show()\n",
    "\n",
    "clf.fit(X_train, y_train)\n",
    "\n",
    "y_pred = clf.predict(X_test)\n",
    "\n",
    "test_accuracy = precision_score(y_test, y_pred, average='weighted')\n",
    "\n",
    "print(\"SVM Macro weighted F1-score: %.2f%%\" % (test_accuracy*100.0))"
   ]
  },
  {
   "cell_type": "code",
   "execution_count": null,
   "id": "46f1d540",
   "metadata": {},
   "outputs": [],
   "source": []
  }
 ],
 "metadata": {
  "kernelspec": {
   "display_name": "Python 3 (ipykernel)",
   "language": "python",
   "name": "python3"
  },
  "language_info": {
   "codemirror_mode": {
    "name": "ipython",
    "version": 3
   },
   "file_extension": ".py",
   "mimetype": "text/x-python",
   "name": "python",
   "nbconvert_exporter": "python",
   "pygments_lexer": "ipython3",
   "version": "3.9.7"
  }
 },
 "nbformat": 4,
 "nbformat_minor": 5
}
