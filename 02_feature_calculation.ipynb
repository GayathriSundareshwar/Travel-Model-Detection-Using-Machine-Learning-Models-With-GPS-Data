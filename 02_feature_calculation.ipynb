{
 "cells": [
  {
   "cell_type": "markdown",
   "id": "ff133abd",
   "metadata": {},
   "source": [
    "## <CENTER><U> 1. IMPORTING BASIC NECESSARY PACKAGES</U></CENTER>"
   ]
  },
  {
   "cell_type": "code",
   "execution_count": null,
   "id": "d92ee19b",
   "metadata": {},
   "outputs": [],
   "source": [
    "pip install geopy"
   ]
  },
  {
   "cell_type": "code",
   "execution_count": null,
   "id": "ce796bbc",
   "metadata": {},
   "outputs": [],
   "source": [
    "import pandas as pd\n",
    "import time\n",
    "from geopy.distance import geodesic"
   ]
  },
  {
   "cell_type": "markdown",
   "id": "b2b3deef",
   "metadata": {},
   "source": [
    "## <CENTER><U> 2. READING INPUT DATA </CENTER></U>"
   ]
  },
  {
   "cell_type": "code",
   "execution_count": null,
   "id": "a2209427",
   "metadata": {},
   "outputs": [],
   "source": [
    "data = pd.read_csv(\"trajectory_data.csv\")"
   ]
  },
  {
   "cell_type": "code",
   "execution_count": null,
   "id": "74a8e7ab",
   "metadata": {
    "scrolled": true
   },
   "outputs": [],
   "source": [
    "data.isnull().sum()"
   ]
  },
  {
   "cell_type": "code",
   "execution_count": null,
   "id": "9940b2b9",
   "metadata": {},
   "outputs": [],
   "source": [
    "data.duplicated().sum()"
   ]
  },
  {
   "cell_type": "code",
   "execution_count": null,
   "id": "8ee2fe63",
   "metadata": {},
   "outputs": [],
   "source": [
    "data = data.drop_duplicates(keep='last').reset_index(drop=True)\n",
    "data.duplicated().sum()"
   ]
  },
  {
   "cell_type": "code",
   "execution_count": null,
   "id": "b6259009",
   "metadata": {},
   "outputs": [],
   "source": [
    "display(data.head(10))"
   ]
  },
  {
   "cell_type": "code",
   "execution_count": null,
   "id": "a1523096",
   "metadata": {
    "scrolled": true
   },
   "outputs": [],
   "source": [
    "display(data.tail(10))"
   ]
  },
  {
   "cell_type": "code",
   "execution_count": null,
   "id": "535393c9",
   "metadata": {},
   "outputs": [],
   "source": [
    "data.dtypes"
   ]
  },
  {
   "cell_type": "code",
   "execution_count": null,
   "id": "6a76d397",
   "metadata": {},
   "outputs": [],
   "source": [
    "data.shape"
   ]
  },
  {
   "cell_type": "code",
   "execution_count": null,
   "id": "7af8b529",
   "metadata": {},
   "outputs": [],
   "source": [
    "start_time = time.time()\n",
    "\n",
    "pd.set_option('display.max_columns', None)\n",
    "\n",
    "pd.set_option('display.max_rows', None)\n",
    " \n",
    "travel_count = 1\n",
    "\n",
    "data['Travel Count'] = 1\n",
    "\n",
    "data['Time'] = pd.to_datetime(data['Time'])\n",
    "\n",
    "count = []"
   ]
  },
  {
   "cell_type": "markdown",
   "id": "f30c6e44",
   "metadata": {},
   "source": [
    "### Remove records which suggest Different modes during same time period"
   ]
  },
  {
   "cell_type": "code",
   "execution_count": null,
   "id": "f0fadfe5",
   "metadata": {},
   "outputs": [],
   "source": [
    "# For each time point of track data, if it corresponds to multiple modes of transportation,\n",
    "#all of them will be deleted\n",
    "\n",
    "for i in range(len(data)-1):\n",
    "\n",
    "    if (data['Time'][i + 1] - data['Time'][i]).seconds == 0:\n",
    "\n",
    "        count.append(i)\n",
    "\n",
    "        count.append(i+1)\n",
    "\n",
    "data = data.drop(count).reset_index(drop=True)\n",
    "\n",
    "count.clear()"
   ]
  },
  {
   "cell_type": "markdown",
   "id": "d5e45add",
   "metadata": {},
   "source": [
    "### Remove abnormal latitude and longitude"
   ]
  },
  {
   "cell_type": "code",
   "execution_count": null,
   "id": "6c2aba87",
   "metadata": {},
   "outputs": [],
   "source": [
    "# Delete data with abnormal latitude and longitude\n",
    "\n",
    "for i in range(len(data)):\n",
    "\n",
    "    if data['Lat'][i] > 90 or data['Lat'][i] < 0 or data['Lon'][i] > 180 or data['Lon'][i] < -180:\n",
    "\n",
    "        count.append(i)\n",
    "\n",
    "data = data.drop(count).reset_index(drop=True)"
   ]
  },
  {
   "cell_type": "markdown",
   "id": "361b500a",
   "metadata": {},
   "source": [
    "### Splitting travel segments"
   ]
  },
  {
   "cell_type": "code",
   "execution_count": null,
   "id": "00e78bdc",
   "metadata": {},
   "outputs": [],
   "source": [
    "for i in range(len(data)):\n",
    "    data['Travel Count'].at[i] = travel_count   \n",
    "    if (i != len(data)-1):        \n",
    "        if ((data['Travel Start Time'][i] != data['Travel Start Time'][i+1]) or \\\n",
    "            ((data['Time'][i + 1] - data['Time'][i]).seconds > 1800)): \n",
    "                \n",
    "                travel_count = travel_count + 1\n",
    " \n",
    "result = pd.value_counts(data['Travel Count'])"
   ]
  },
  {
   "cell_type": "code",
   "execution_count": null,
   "id": "95abba56",
   "metadata": {},
   "outputs": [],
   "source": [
    "end_time = time.time()\n",
    " \n",
    "print(f'Time taken for processing the data:\\t {end_time - start_time}')"
   ]
  },
  {
   "cell_type": "markdown",
   "id": "c3c092b5",
   "metadata": {},
   "source": [
    "## <center> <u> 4. ADDITIONAL FEATURE CALCULATION"
   ]
  },
  {
   "cell_type": "code",
   "execution_count": null,
   "id": "6b0a31c7",
   "metadata": {},
   "outputs": [],
   "source": [
    "time_gap = [] \n",
    "\n",
    "distance_gap = []\n",
    "\n",
    "speed = []\n",
    "\n",
    "acceleration = []\n",
    "\n",
    "total_time = []\n",
    "\n",
    "total_time_count = 0\n",
    "\n",
    "total_distance = []\n",
    "\n",
    "total_distance_count = 0"
   ]
  },
  {
   "cell_type": "code",
   "execution_count": null,
   "id": "380c8c3a",
   "metadata": {},
   "outputs": [],
   "source": [
    "i = 0\n",
    "count = []\n",
    "for i in range(0,len(data)-1):\n",
    "    if (data['Travel Count'][i] == data['Travel Count'][i+1])  and \\\n",
    "    ((data['Time'][i+1] - data['Time'][i]).seconds < 50):\n",
    "        count.append(i+1)\n",
    "        data['Time'].at[i+1] = data['Time'].at[i]\n",
    "data = data.drop(count).reset_index(drop=True)"
   ]
  },
  {
   "cell_type": "code",
   "execution_count": null,
   "id": "0b3df290",
   "metadata": {},
   "outputs": [],
   "source": [
    "for i in range(len(data)-1):\n",
    "\n",
    "    if data['Travel Count'][i] == data['Travel Count'][i+1]:\n",
    "        time_gap.append((data['Time'][i + 1] - data['Time'][i]).seconds)\n",
    "        distance_gap.append(geodesic((data['Lat'][i], data['Lon'][i]), (data['Lat'][i + 1], data['Lon'][i + 1])).m)\n",
    "    else:\n",
    "        time_gap.append('N.A')\n",
    "        distance_gap.append('N.A')\n",
    "        \n",
    "time_gap.append('NA')\n",
    "distance_gap.append('N.A')"
   ]
  },
  {
   "cell_type": "code",
   "execution_count": null,
   "id": "54e4ca3d",
   "metadata": {},
   "outputs": [],
   "source": [
    "for i in range(len(data)-1):\n",
    "    if time_gap[i] != 'N.A':\n",
    "        speed.append(round(distance_gap[i]/time_gap[i], 2))\n",
    "    else:\n",
    "        speed.append('N.A')      \n",
    "speed.append('N.A')"
   ]
  },
  {
   "cell_type": "code",
   "execution_count": null,
   "id": "6956e873",
   "metadata": {},
   "outputs": [],
   "source": [
    "for i in range(len(data)-1):\n",
    "    if speed[i] != 'N.A' and speed[i+1] != 'N.A':\n",
    "        acceleration.append(round(((speed[i+1]-speed[i])/time_gap[i]), 2))\n",
    "    else:\n",
    "        acceleration.append('N.A')\n",
    "acceleration.append('N.A')"
   ]
  },
  {
   "cell_type": "code",
   "execution_count": null,
   "id": "b8cf9c39",
   "metadata": {},
   "outputs": [],
   "source": [
    "for i in range(len(data)-1):\n",
    "    if time_gap[i] != 'N.A':\n",
    "        total_time_count = total_time_count + time_gap[i]\n",
    "        total_time.append('N.A')\n",
    "        total_distance_count = total_distance_count + distance_gap[i]\n",
    "        total_distance.append('N.A')\n",
    "    else:\n",
    "        total_time.append(total_time_count)\n",
    "        total_distance.append(total_distance_count)\n",
    "        total_time_count = 0\n",
    "        total_distance_count = 0      \n",
    "total_time.append('N.A')\n",
    "total_distance.append('N.A')"
   ]
  },
  {
   "cell_type": "code",
   "execution_count": null,
   "id": "8125e7e4",
   "metadata": {},
   "outputs": [],
   "source": [
    "data['Time Gap(s)'] = time_gap\n",
    "data['Distance(m)'] = distance_gap\n",
    "data['Speed(m/s)'] = speed\n",
    "data['Acceleration(m/s^2)'] = acceleration\n",
    "data['Total Time(s)'] = total_time\n",
    "data['Total Distance(m)'] = total_distance"
   ]
  },
  {
   "cell_type": "code",
   "execution_count": null,
   "id": "8b21e9ab",
   "metadata": {},
   "outputs": [],
   "source": [
    "data.to_csv(\"Data processing/feature_caclculated.csv\")"
   ]
  },
  {
   "cell_type": "code",
   "execution_count": null,
   "id": "9f19eb21",
   "metadata": {},
   "outputs": [],
   "source": []
  }
 ],
 "metadata": {
  "kernelspec": {
   "display_name": "Python 3 (ipykernel)",
   "language": "python",
   "name": "python3"
  },
  "language_info": {
   "codemirror_mode": {
    "name": "ipython",
    "version": 3
   },
   "file_extension": ".py",
   "mimetype": "text/x-python",
   "name": "python",
   "nbconvert_exporter": "python",
   "pygments_lexer": "ipython3",
   "version": "3.9.7"
  }
 },
 "nbformat": 4,
 "nbformat_minor": 5
}
