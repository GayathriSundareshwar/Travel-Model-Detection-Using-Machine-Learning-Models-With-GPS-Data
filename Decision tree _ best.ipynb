{
 "cells": [
  {
   "cell_type": "markdown",
   "id": "0b09656d",
   "metadata": {},
   "source": [
    "## <CENTER><U> 1. IMPORTING BASIC NECESSARY PACKAGES</U></CENTER>"
   ]
  },
  {
   "cell_type": "code",
   "execution_count": 1,
   "id": "8f4eb6f9",
   "metadata": {},
   "outputs": [],
   "source": [
    "import pandas as pd\n",
    "import numpy as np\n",
    "from sklearn.tree import DecisionTreeClassifier\n",
    "from sklearn.model_selection import train_test_split, StratifiedKFold, learning_curve\n",
    "from sklearn.metrics import precision_score\n",
    "from sklearn.preprocessing import StandardScaler\n",
    "from matplotlib import pyplot as plt\n",
    "from sklearn.metrics import classification_report\n",
    "from sklearn.metrics import confusion_matrix\n",
    "import seaborn as sns\n",
    "\n",
    "import warnings\n",
    "warnings.filterwarnings(\"ignore\")"
   ]
  },
  {
   "cell_type": "markdown",
   "id": "2de002bb",
   "metadata": {},
   "source": [
    "## <CENTER><U> 2. READING INPUT DATA </CENTER></U>"
   ]
  },
  {
   "cell_type": "code",
   "execution_count": 2,
   "id": "dd19b6f5",
   "metadata": {},
   "outputs": [],
   "source": [
    "data = pd.read_excel(\"Data processing/feature_extracted.xlsx\")\n",
    "features = ['Max Speed(m/s)', 'Non 0 Mean Speed(m/s)', 'Speed Std', 'Max Acceleration(m/s^2)',\n",
    "            'Acceleration Std', 'Non 0 Mean Acceleration(m/s^2)']"
   ]
  },
  {
   "cell_type": "markdown",
   "id": "4bfdb0ff",
   "metadata": {},
   "source": [
    "## <CENTER><U> 3. MODELING </CENTER></U>"
   ]
  },
  {
   "cell_type": "markdown",
   "id": "8e057ba3",
   "metadata": {},
   "source": [
    "## <b>Train, test split"
   ]
  },
  {
   "cell_type": "code",
   "execution_count": 3,
   "id": "03187cbd",
   "metadata": {},
   "outputs": [],
   "source": [
    "X= data[features]\n",
    "y = data['Transportation Mode']\n",
    "X_train, X_test, y_train, y_test = train_test_split(X, y, test_size=0.3, stratify=y, random_state=233)"
   ]
  },
  {
   "cell_type": "code",
   "execution_count": 4,
   "id": "56ac27eb",
   "metadata": {},
   "outputs": [],
   "source": [
    "scaler = StandardScaler()\n",
    "X_train = scaler.fit_transform(X_train)\n",
    "X_test = scaler.transform(X_test)"
   ]
  },
  {
   "cell_type": "markdown",
   "id": "d56167de",
   "metadata": {},
   "source": [
    "## <b>K-fold validation"
   ]
  },
  {
   "cell_type": "code",
   "execution_count": 5,
   "id": "8616545d",
   "metadata": {},
   "outputs": [],
   "source": [
    "n_folds = 5\n",
    "skf = StratifiedKFold(n_splits=n_folds, shuffle=True, random_state=233)"
   ]
  },
  {
   "cell_type": "markdown",
   "id": "04d3343c",
   "metadata": {},
   "source": [
    "## Cross-Validation"
   ]
  },
  {
   "cell_type": "code",
   "execution_count": 6,
   "id": "cc9a0b50",
   "metadata": {},
   "outputs": [
    {
     "name": "stdout",
     "output_type": "stream",
     "text": [
      "Training DecisionTreeClassifier ...\n",
      "Average CV performance for DecisionTreeClassifier : 0.784216 (in 0.0483582 seconds)\n"
     ]
    }
   ],
   "source": [
    "# Let's start the prediction\n",
    "from sklearn.svm import SVC\n",
    "from sklearn.metrics import f1_score\n",
    "from sklearn import model_selection\n",
    "from time import time\n",
    "from sklearn import model_selection as cross_validation\n",
    "from sklearn.model_selection import cross_val_score, cross_val_predict\n",
    "# Let's keep 20 % of the data for testing purposes\n",
    "test_size = .20\n",
    "random_state = 233\n",
    "X_train_clus, X_test_clus, y_train_clus, y_test_clus = cross_validation.train_test_split(\n",
    "    X, y, test_size = test_size, random_state = random_state, stratify=y)\n",
    "clf_dict_clus = {}\n",
    "clf_report_clus = []\n",
    "clf_feature_relevance_clus = []\n",
    "clf_clus = DecisionTreeClassifier(random_state = random_state,max_depth=4)\n",
    "clf_name = clf_clus.__class__.__name__\n",
    "print (\"Training\", clf_name, \"...\")\n",
    "# Fit model on training data\n",
    "clf_dict_clus[clf_name] = clf_clus.fit(X_train_clus, y_train_clus)\n",
    "# Predict based on it\n",
    "# y_pred = clf.predict(X_train)    \n",
    "# Perform cross validation\n",
    "start = time()\n",
    "scores = cross_validation.cross_val_score(clf_clus, X_train_clus, y_train_clus, cv=5, scoring='accuracy') \n",
    "end = time()\n",
    "duration = end-start\n",
    "print (\"Average CV performance for {} : {:.6} (in {:.6} seconds)\".format(clf_name, scores.mean(), duration))\n",
    "clf_report_clus.append([clf_name, scores.mean(), duration])\n",
    "# Store information in list for better visibility\n",
    "clf_report_clus = pd.DataFrame(clf_report_clus, columns=['classifier', 'Cluster_train_accuracy', 'Cluster_train_time'])"
   ]
  },
  {
   "cell_type": "code",
   "execution_count": 7,
   "id": "a3ad6598",
   "metadata": {},
   "outputs": [],
   "source": [
    "X = data.drop(['Transportation Mode'],axis=1)\n",
    "#X= data[features]\n",
    "y = data['Transportation Mode']\n",
    "X_train, X_test, y_train, y_test = train_test_split(X, y, test_size=0.3, stratify=y, random_state=233)\n"
   ]
  },
  {
   "cell_type": "code",
   "execution_count": 8,
   "id": "73a8a002",
   "metadata": {},
   "outputs": [],
   "source": [
    "scaler = StandardScaler()\n",
    "X_train = scaler.fit_transform(X_train)\n",
    "X_test = scaler.transform(X_test)"
   ]
  },
  {
   "cell_type": "markdown",
   "id": "d62cf667",
   "metadata": {},
   "source": [
    "## <b>K-fold validation"
   ]
  },
  {
   "cell_type": "code",
   "execution_count": 9,
   "id": "6e39aca0",
   "metadata": {},
   "outputs": [],
   "source": [
    "n_folds = 5\n",
    "skf = StratifiedKFold(n_splits=n_folds, shuffle=True, random_state=233)"
   ]
  },
  {
   "cell_type": "markdown",
   "id": "3cb24fdc",
   "metadata": {},
   "source": [
    "## <b>Model learning curve"
   ]
  },
  {
   "cell_type": "code",
   "execution_count": 10,
   "id": "99443857",
   "metadata": {},
   "outputs": [],
   "source": [
    "def plot_learning_curve(estimator, title, X, y, ylim=(0.5, 1.01), cv=skf, train_sizes=np.linspace(.1, 1.0, 5)):\n",
    "    train_sizes, train_scores, test_scores = learning_curve(\n",
    "        estimator, X, y, cv=cv, train_sizes=train_sizes, scoring='f1_weighted')\n",
    "    plt.figure()\n",
    "    plt.title(title)\n",
    "    if ylim is not None:\n",
    "        plt.ylim(*ylim)\n",
    "    plt.xlabel(\"Training examples\")\n",
    "    plt.ylabel(\"Score\")\n",
    "    train_sizes, train_scores, test_scores = learning_curve(\n",
    "        estimator, X, y, cv=cv, train_sizes=train_sizes, scoring='f1_weighted')\n",
    "    train_scores_mean = np.mean(train_scores, axis=1)\n",
    "    train_scores_std = np.std(train_scores, axis=1)\n",
    "    test_scores_mean = np.mean(test_scores, axis=1)\n",
    "    test_scores_std = np.std(test_scores, axis=1)\n",
    "    print(\"DT Macro weighted F1-score: %.2f%%\" % (train_scores_mean[-1] * 100.0))\n",
    "    print(\"DT Macro weighted F1-score: %.2f%%\" % (test_scores_mean[-1] * 100.0))\n",
    "    plt.grid()\n",
    "\n",
    "    plt.fill_between(train_sizes, train_scores_mean - train_scores_std,\n",
    "                     train_scores_mean + train_scores_std, alpha=0.1,\n",
    "                     color=\"r\")\n",
    "    plt.fill_between(train_sizes, test_scores_mean - test_scores_std,\n",
    "                     test_scores_mean + test_scores_std, alpha=0.1, color=\"g\")\n",
    "    plt.plot(train_sizes, train_scores_mean, 'o-', color=\"r\",\n",
    "             label=\"Training score\")\n",
    "    plt.plot(train_sizes, test_scores_mean, 'o-', color=\"g\",\n",
    "             label=\"Cross-validation score\")\n",
    "\n",
    "    plt.legend(loc=\"best\")\n",
    "    return plt"
   ]
  },
  {
   "cell_type": "markdown",
   "id": "d8903582",
   "metadata": {},
   "source": [
    "## Model Learning Curve"
   ]
  },
  {
   "cell_type": "code",
   "execution_count": 11,
   "id": "072e8f21",
   "metadata": {
    "scrolled": false
   },
   "outputs": [
    {
     "name": "stdout",
     "output_type": "stream",
     "text": [
      "DT Macro weighted F1-score: 79.68%\n",
      "DT Macro weighted F1-score: 78.13%\n"
     ]
    },
    {
     "data": {
      "image/png": "[encoded data removed]",
      "text/plain": [
       "<Figure size 432x288 with 1 Axes>"
      ]
     },
     "metadata": {
      "needs_background": "light"
     },
     "output_type": "display_data"
    }
   ],
   "source": [
    "clf = DecisionTreeClassifier(random_state = random_state,max_depth=4)\n",
    "plot_learning_curve(clf, u\" DT learning curve\", X_train, y_train)\n",
    "plt.show()\n",
    "\n",
    "clf.fit(X_train, y_train)\n",
    "\n",
    "y_pred = clf.predict(X_test)\n",
    "\n",
    "test_accuracy = precision_score(y_test, y_pred, average='weighted')\n",
    "\n",
    "#print(\"SVM Macro weighted F1-score: %.2f%%\" % (test_accuracy*100.0))"
   ]
  },
  {
   "cell_type": "markdown",
   "id": "fb9d14b6",
   "metadata": {},
   "source": [
    "## Classification Report "
   ]
  },
  {
   "cell_type": "code",
   "execution_count": 12,
   "id": "f016c712",
   "metadata": {},
   "outputs": [
    {
     "name": "stdout",
     "output_type": "stream",
     "text": [
      "              precision    recall  f1-score   support\n",
      "\n",
      "    airplane       0.00      0.00      0.00         4\n",
      "        bike       0.78      0.81      0.79       200\n",
      "        boat       0.00      0.00      0.00         1\n",
      "         bus       0.83      0.76      0.79       339\n",
      "         car       0.51      0.90      0.65       176\n",
      "  motorcycle       0.00      0.00      0.00         1\n",
      "         run       0.00      0.00      0.00         1\n",
      "      subway       0.73      0.45      0.55       114\n",
      "        taxi       0.00      0.00      0.00        53\n",
      "       train       0.00      0.00      0.00        16\n",
      "        walk       0.93      0.94      0.94       597\n",
      "\n",
      "    accuracy                           0.79      1502\n",
      "   macro avg       0.34      0.35      0.34      1502\n",
      "weighted avg       0.78      0.79      0.78      1502\n",
      "\n"
     ]
    }
   ],
   "source": [
    "print(classification_report(y_test, y_pred))"
   ]
  },
  {
   "cell_type": "markdown",
   "id": "018b360f",
   "metadata": {},
   "source": [
    "## confusion matrix"
   ]
  },
  {
   "cell_type": "code",
   "execution_count": 13,
   "id": "dc750241",
   "metadata": {},
   "outputs": [
    {
     "data": {
      "text/plain": [
       "array([[  0,   1,   0,   1,   2,   0,   0,   0,   0,   0,   0],\n",
       "       [  0, 162,   0,  15,   8,   0,   0,   0,   0,   0,  15],\n",
       "       [  0,   0,   0,   0,   1,   0,   0,   0,   0,   0,   0],\n",
       "       [  0,  10,   0, 258,  54,   0,   0,   7,   0,   0,  10],\n",
       "       [  0,   1,   0,  10, 158,   0,   0,   5,   0,   0,   2],\n",
       "       [  0,   0,   0,   1,   0,   0,   0,   0,   0,   0,   0],\n",
       "       [  0,   0,   0,   0,   0,   0,   0,   0,   0,   0,   1],\n",
       "       [  0,   1,   0,   4,  50,   0,   0,  51,   0,   0,   8],\n",
       "       [  0,   0,   0,  23,  24,   0,   0,   4,   0,   0,   2],\n",
       "       [  0,   0,   0,   0,  11,   0,   0,   3,   0,   0,   2],\n",
       "       [  0,  34,   0,   0,   0,   0,   0,   0,   0,   0, 563]],\n",
       "      dtype=int64)"
      ]
     },
     "execution_count": 13,
     "metadata": {},
     "output_type": "execute_result"
    }
   ],
   "source": [
    "cf_matrix = confusion_matrix(y_test, y_pred)\n",
    "cf_matrix"
   ]
  },
  {
   "cell_type": "markdown",
   "id": "82163c65",
   "metadata": {},
   "source": [
    "## Confusion Matrix"
   ]
  },
  {
   "cell_type": "code",
   "execution_count": 14,
   "id": "6cc35aa3",
   "metadata": {
    "scrolled": false
   },
   "outputs": [
    {
     "data": {
      "image/png": "[encoded data removed]",
      "text/plain": [
       "<Figure size 1080x720 with 2 Axes>"
      ]
     },
     "metadata": {
      "needs_background": "light"
     },
     "output_type": "display_data"
    }
   ],
   "source": [
    "plt.figure(figsize = (15,10))\n",
    "ax= sns.heatmap(cf_matrix, cmap='coolwarm',annot= True, linewidth= 1, fmt = \"d\" )\n",
    "# labels, title and ticks\n",
    "ax.set_xlabel('PreSdicted labels');\n",
    "ax.set_ylabel('True labels'); \n",
    "ax.set_title('Confusion Matrix'); \n",
    "ax.xaxis.set_ticklabels(['airplane','bike','boat','bus','car','motorcycle','run','subway','taxi','train','walk']); ax.yaxis.set_ticklabels(['walk','train','taxi','subway','run','motorcycle','car','bus','boat','bike','airplane']);"
   ]
  },
  {
   "cell_type": "code",
   "execution_count": null,
   "id": "ef106929",
   "metadata": {},
   "outputs": [],
   "source": []
  }
 ],
 "metadata": {
  "kernelspec": {
   "display_name": "Python 3 (ipykernel)",
   "language": "python",
   "name": "python3"
  },
  "language_info": {
   "codemirror_mode": {
    "name": "ipython",
    "version": 3
   },
   "file_extension": ".py",
   "mimetype": "text/x-python",
   "name": "python",
   "nbconvert_exporter": "python",
   "pygments_lexer": "ipython3",
   "version": "3.9.7"
  }
 },
 "nbformat": 4,
 "nbformat_minor": 5
}
