{
 "cells": [
  {
   "cell_type": "markdown",
   "id": "3500276f",
   "metadata": {},
   "source": [
    "## <CENTER><U> 1. IMPORTING BASIC NECESSARY PACKAGES</U></CENTER>"
   ]
  },
  {
   "cell_type": "code",
   "execution_count": null,
   "id": "28893ad0",
   "metadata": {},
   "outputs": [],
   "source": [
    "pip install pandas_profiling"
   ]
  },
  {
   "cell_type": "code",
   "execution_count": null,
   "id": "cc94123a",
   "metadata": {},
   "outputs": [],
   "source": [
    "import pandas as pd\n",
    "import seaborn as sns\n",
    "from matplotlib import pyplot as plt\n",
    "import pandas_profiling"
   ]
  },
  {
   "cell_type": "markdown",
   "id": "d55a7594",
   "metadata": {},
   "source": [
    "## <CENTER><U> 2. READING INPUT DATA </CENTER></U>"
   ]
  },
  {
   "cell_type": "code",
   "execution_count": null,
   "id": "b12792cf",
   "metadata": {},
   "outputs": [],
   "source": [
    "pd.set_option('display.max_columns', None)\n",
    "pd.set_option('display.max_rows', None)\n",
    "\n",
    "data = pd.read_excel(\"Data processing/feature_extracted.xlsx\")"
   ]
  },
  {
   "cell_type": "code",
   "execution_count": null,
   "id": "a08ee169",
   "metadata": {},
   "outputs": [],
   "source": [
    "display(data.head())"
   ]
  },
  {
   "cell_type": "markdown",
   "id": "7d652432",
   "metadata": {},
   "source": [
    "## <CENTER><U> 3. DATA ANALYSIS </CENTER></U>"
   ]
  },
  {
   "cell_type": "code",
   "execution_count": null,
   "id": "9c6a94c6",
   "metadata": {},
   "outputs": [],
   "source": [
    "data = data.drop(['Travel Count'],axis=1).reset_index(drop=True)"
   ]
  },
  {
   "cell_type": "code",
   "execution_count": null,
   "id": "22283c24",
   "metadata": {},
   "outputs": [],
   "source": [
    "profile = data.profile_report(title='Data Analysis')\n",
    "profile.to_file(output_file=\"Data processing/Data Analysis.html\")"
   ]
  },
  {
   "cell_type": "code",
   "execution_count": null,
   "id": "5f62831c",
   "metadata": {},
   "outputs": [],
   "source": [
    "print(data.corr())"
   ]
  },
  {
   "cell_type": "code",
   "execution_count": null,
   "id": "2189bc16",
   "metadata": {},
   "outputs": [],
   "source": [
    "plt.figure(figsize=(12,12))\n",
    "sns.heatmap(data.corr(), square=True, cmap='Purples')\n",
    "sns.set(font_scale=1.5)\n",
    "plt.rc('font', family='Times New Roman', size=5)\n",
    "plt.show()"
   ]
  },
  {
   "cell_type": "code",
   "execution_count": null,
   "id": "fb8fc7c7",
   "metadata": {},
   "outputs": [],
   "source": []
  }
 ],
 "metadata": {
  "kernelspec": {
   "display_name": "Python 3 (ipykernel)",
   "language": "python",
   "name": "python3"
  },
  "language_info": {
   "codemirror_mode": {
    "name": "ipython",
    "version": 3
   },
   "file_extension": ".py",
   "mimetype": "text/x-python",
   "name": "python",
   "nbconvert_exporter": "python",
   "pygments_lexer": "ipython3",
   "version": "3.9.7"
  }
 },
 "nbformat": 4,
 "nbformat_minor": 5
}
